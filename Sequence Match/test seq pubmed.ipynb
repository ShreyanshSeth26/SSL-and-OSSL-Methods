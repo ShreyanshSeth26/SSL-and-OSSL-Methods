{
 "cells": [
  {
   "cell_type": "code",
   "execution_count": 12,
   "id": "d5d93d84",
   "metadata": {},
   "outputs": [
    {
     "name": "stdout",
     "output_type": "stream",
     "text": [
      "Input Text:\n",
      "When mean hemodynamic profiles were compared in patients with abnormal versus normal LFTs , elevated total bilirubin was associated with a significantly lower cardiac index ( 1.80 vs 2.1 ; P < .001 ) and higher central venous pressure ( 14.2 vs 12.0 ; P = .03 ) .\n",
      "\n",
      "Predicted Label: RESULTS\n"
     ]
    }
   ],
   "source": [
    "import torch\n",
    "import torch.nn as nn\n",
    "import torch.nn.functional as F\n",
    "from transformers import DistilBertTokenizer, DistilBertModel\n",
    "\n",
    "class DistilBertSeqMatch(nn.Module):\n",
    "    def __init__(self, num_labels):\n",
    "        super(DistilBertSeqMatch, self).__init__()\n",
    "        self.Backbone = DistilBertModel.from_pretrained(\"distilbert-base-uncased\")\n",
    "        hidden_size = self.Backbone.config.dim\n",
    "        self.Classifier = nn.Linear(hidden_size, num_labels)\n",
    "    \n",
    "    def forward(self, input_ids, attention_mask):\n",
    "        out = self.Backbone(input_ids, attention_mask=attention_mask)\n",
    "        hidden_state = out.last_hidden_state[:, 0]\n",
    "        logits = self.Classifier(hidden_state)\n",
    "        return logits\n",
    "\n",
    "def predict(text, model, tokenizer, label_list, max_length=256, device=\"cpu\"):\n",
    "    encoding = tokenizer.encode_plus(\n",
    "        text,\n",
    "        truncation=True,\n",
    "        max_length=max_length,\n",
    "        return_tensors=\"pt\",\n",
    "        padding=\"max_length\"\n",
    "    )\n",
    "    input_ids = encoding[\"input_ids\"].to(device)\n",
    "    attention_mask = encoding[\"attention_mask\"].to(device)\n",
    "    model.eval()\n",
    "    with torch.no_grad():\n",
    "        logits = model(input_ids, attention_mask)\n",
    "        probs = F.softmax(logits, dim=1)\n",
    "        prediction_idx = torch.argmax(probs, dim=1).item()\n",
    "    return label_list[prediction_idx], probs.cpu().numpy()\n",
    "\n",
    "device = torch.device(\"cuda\")\n",
    "tokenizer = DistilBertTokenizer.from_pretrained(\"distilbert-base-uncased\")\n",
    "label_list = ['BACKGROUND', 'CONCLUSIONS', 'METHODS', 'OBJECTIVE', 'RESULTS']\n",
    "num_labels = len(label_list)\n",
    "model = DistilBertSeqMatch(num_labels)\n",
    "weights_path = r\"C:\\Users\\clash\\Downloads\\mkc\\Sequence Match\\SequenceMatch_PubMedRCT_40000_labeled.pth\"\n",
    "model.load_state_dict(torch.load(weights_path, map_location=device))\n",
    "model.to(device)\n",
    "eval_text = (\"When mean hemodynamic profiles were compared in patients with abnormal versus normal LFTs , elevated total bilirubin was associated with a significantly lower cardiac index ( 1.80 vs 2.1 ; P < .001 ) and higher central venous pressure ( 14.2 vs 12.0 ; P = .03 ) .\")\n",
    "predicted_label, probabilities = predict(eval_text, model, tokenizer, label_list, device=device)\n",
    "print(\"Input Text:\")\n",
    "print(eval_text)\n",
    "print(\"\\nPredicted Label:\", predicted_label)"
   ]
  }
 ],
 "metadata": {
  "kernelspec": {
   "display_name": "Python 3",
   "language": "python",
   "name": "python3"
  },
  "language_info": {
   "codemirror_mode": {
    "name": "ipython",
    "version": 3
   },
   "file_extension": ".py",
   "mimetype": "text/x-python",
   "name": "python",
   "nbconvert_exporter": "python",
   "pygments_lexer": "ipython3",
   "version": "3.12.10"
  }
 },
 "nbformat": 4,
 "nbformat_minor": 5
}
